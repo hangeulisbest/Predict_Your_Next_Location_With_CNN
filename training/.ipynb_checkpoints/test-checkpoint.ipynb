{
 "cells": [
  {
   "cell_type": "code",
   "execution_count": 1,
   "metadata": {},
   "outputs": [
    {
     "name": "stderr",
     "output_type": "stream",
     "text": [
      "Using TensorFlow backend.\n"
     ]
    }
   ],
   "source": [
    "#\n",
    "# ===============================================================================\n",
    "#\n",
    "from __future__ import print_function\n",
    "import keras\n",
    "from keras.datasets import mnist\n",
    "from keras.models import Sequential\n",
    "from keras.layers import Dense, Dropout, Flatten\n",
    "from keras.layers import Conv2D, MaxPooling2D\n",
    "from keras import backend as K\n",
    "import numpy as np\n",
    "import json\n",
    "import copy\n",
    "from keras.models import load_model\n",
    "\n",
    "#\n",
    "# ===============================================================================\n",
    "#"
   ]
  },
  {
   "cell_type": "code",
   "execution_count": 2,
   "metadata": {},
   "outputs": [],
   "source": [
    "#\n",
    "# 테스트할 json 파일 열기 ===========================================================\n",
    "#\n",
    "\n",
    "with open(\"./data/testData.json\",\"r\") as js:\n",
    "    jsonData=json.load(js)\n",
    "\n",
    "#\n",
    "# ===============================================================================\n",
    "#"
   ]
  },
  {
   "cell_type": "code",
   "execution_count": 3,
   "metadata": {},
   "outputs": [],
   "source": [
    "#\n",
    "# ===============================================================================\n",
    "#\n",
    "\n",
    "basePoint = [126.916810,37.548029]\n",
    "num_classes = 576\n",
    "squareSize=0.011\n",
    "\n",
    "img_rows, img_cols = 24, 24\n",
    "\n",
    "input_shape=(24,24,1)\n",
    "\n",
    "pNum=10\n",
    "\n",
    "#\n",
    "# ===============================================================================\n",
    "#"
   ]
  },
  {
   "cell_type": "code",
   "execution_count": 4,
   "metadata": {},
   "outputs": [],
   "source": [
    "def MakeTestSet(jsonData):\n",
    "    \n",
    "    x_test=list()\n",
    "    y_test=list()\n",
    "    \n",
    "    # 24*24 중 1개의 타일 변의 크기\n",
    "    dl = squareSize / img_rows\n",
    "\n",
    "    # basePoint 사각형 내에 있는 데이터만 거르기\n",
    "    verifyJsonData=list()\n",
    "    for x in jsonData:\n",
    "        if basePoint[0]<= float(x['longitude']) <basePoint[0]+squareSize:\n",
    "            if basePoint[1] <= float(x['latitude']) < basePoint[1]+squareSize:\n",
    "                verifyJsonData.append(x)\n",
    "\n",
    "    # 검증된 데이터셋을 [x좌표,y좌표,번호] 형식으로 만들기\n",
    "    locationSet=list()\n",
    "    for x in verifyJsonData:\n",
    "        idx,idy=0,0\n",
    "        for _idx in range(1,img_rows+1):\n",
    "            if basePoint[0]+_idx*dl > float(x['longitude']):\n",
    "                idx = _idx-1\n",
    "                break\n",
    "        for _idy in range(1,img_rows+1):\n",
    "            if basePoint[1]+_idy*dl > float(x['latitude']):\n",
    "                idy = _idy-1\n",
    "                break\n",
    "        locationSet.append([idx,idy,idx+img_rows*idy])\n",
    "\n",
    "    # pNum의 개수만큼 점의 개수를 가지는 이미지를 x_train로 만들고 y_train으로 정답번호 주기\n",
    "    tmpmap = [ [0 for _ in range(img_rows)] for _ in range(img_rows)]\n",
    "    for i in range(pNum):\n",
    "        tmpmap[locationSet[i][0]][locationSet[i][1]]+=1\n",
    "    for i in range(pNum+1,len(locationSet)):\n",
    "        x_test.append(copy.deepcopy(tmpmap))\n",
    "        y_test.append(locationSet[i][2])\n",
    "        tmpmap[locationSet[i][0]][locationSet[i][1]]+=1\n",
    "        tmpmap[locationSet[i-pNum+1][0]][locationSet[i-pNum+1][1]]-=1\n",
    "        \n",
    "        \n",
    "    # np array 로 만들기\n",
    "    x_test = np.array(x_test)\n",
    "    y_test = np.array(y_test)\n",
    "    \n",
    "    \n",
    "    #혹시 케라스 이미지 포멧이 채널이 first인경우는 바꿔준다\n",
    "    if K.image_data_format() == 'channels_first':\n",
    "        x_test = x_test.reshape(x_test.shape[0], 1, img_rows, img_cols)\n",
    "        input_shape = (1, img_rows, img_cols)\n",
    "    else:\n",
    "        x_test = x_test.reshape(x_test.shape[0], img_rows, img_cols, 1)\n",
    "        input_shape = (img_rows, img_cols, 1)\n",
    "        \n",
    "    x_test = x_test.astype('float32')\n",
    "    x_test /= pNum\n",
    "    \n",
    "    y_test = keras.utils.to_categorical(y_test, num_classes)\n",
    "    \n",
    "    return x_test,y_test"
   ]
  },
  {
   "cell_type": "code",
   "execution_count": 5,
   "metadata": {},
   "outputs": [
    {
     "name": "stdout",
     "output_type": "stream",
     "text": [
      "Test loss: 2.211041257494972\n",
      "Test accuracy: 0.23809523809523808\n"
     ]
    }
   ],
   "source": [
    "#\n",
    "# 테스트 데이터 만들기 + 테스트 ========================================================\n",
    "#\n",
    "x_test,y_test = MakeTestSet(jsonData)\n",
    "model = load_model('../keraslocationpredict.h5')\n",
    "score = model.evaluate(x_test, y_test, verbose=0)\n",
    "print('Test loss:', score[0])\n",
    "print('Test accuracy:', score[1])\n",
    "#\n",
    "# ===============================================================================\n",
    "#"
   ]
  },
  {
   "cell_type": "code",
   "execution_count": null,
   "metadata": {},
   "outputs": [],
   "source": []
  }
 ],
 "metadata": {
  "kernelspec": {
   "display_name": "Python 3",
   "language": "python",
   "name": "python3"
  },
  "language_info": {
   "codemirror_mode": {
    "name": "ipython",
    "version": 3
   },
   "file_extension": ".py",
   "mimetype": "text/x-python",
   "name": "python",
   "nbconvert_exporter": "python",
   "pygments_lexer": "ipython3",
   "version": "3.6.9"
  }
 },
 "nbformat": 4,
 "nbformat_minor": 2
}
